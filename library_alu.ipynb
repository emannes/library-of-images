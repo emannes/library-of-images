{
  "nbformat": 4,
  "nbformat_minor": 0,
  "metadata": {
    "kernelspec": {
      "display_name": "Python 3",
      "language": "python",
      "name": "python3"
    },
    "language_info": {
      "codemirror_mode": {
        "name": "ipython",
        "version": 3
      },
      "file_extension": ".py",
      "mimetype": "text/x-python",
      "name": "python",
      "nbconvert_exporter": "python",
      "pygments_lexer": "ipython3",
      "version": "3.7.6"
    },
    "colab": {
      "name": "library-alu.ipynb",
      "provenance": [],
      "collapsed_sections": []
    }
  },
  "cells": [
    {
      "cell_type": "code",
      "metadata": {
        "id": "9BkS4nhDKuBW"
      },
      "source": [
        "from PIL import Image\n",
        "from IPython.display import display\n",
        "import numpy as np\n",
        "import os"
      ],
      "execution_count": 2,
      "outputs": []
    },
    {
      "cell_type": "code",
      "metadata": {
        "id": "Y_bP2WcrLFmI",
        "colab": {
          "base_uri": "https://localhost:8080/"
        },
        "outputId": "a789379a-7fff-436e-a014-039a74efc2d4"
      },
      "source": [
        "!git clone https://github.com/emannes/library-of-images"
      ],
      "execution_count": 3,
      "outputs": [
        {
          "output_type": "stream",
          "text": [
            "fatal: destination path 'library-of-images' already exists and is not an empty directory.\n"
          ],
          "name": "stdout"
        }
      ]
    },
    {
      "cell_type": "code",
      "metadata": {
        "id": "kHl3LwuhKuBc",
        "colab": {
          "base_uri": "https://localhost:8080/"
        },
        "outputId": "1b92b2dc-1c5f-4471-bba0-ca1b1ede4ee8"
      },
      "source": [
        "%cd library-of-images\n",
        "ims = {f.split('.')[0]: Image.open('library/'+f) for f in os.listdir('library') if f.endswith('.png')}"
      ],
      "execution_count": 4,
      "outputs": [
        {
          "output_type": "stream",
          "text": [
            "/content/library-of-images\n"
          ],
          "name": "stdout"
        }
      ]
    },
    {
      "cell_type": "code",
      "metadata": {
        "id": "XCY2KJNMKuBd"
      },
      "source": [
        "basis = [\n",
        "    ims['library1'], ims['library2'], ims['library3'],\n",
        "]"
      ],
      "execution_count": 5,
      "outputs": []
    },
    {
      "cell_type": "code",
      "metadata": {
        "scrolled": false,
        "id": "dX5_RGPbKuBf",
        "colab": {
          "base_uri": "https://localhost:8080/",
          "height": 671
        },
        "outputId": "fb90f6bb-7dbc-433c-d059-e64423568d8e"
      },
      "source": [
        "for i, im in enumerate(basis):\n",
        "    print(i)\n",
        "    display(im)"
      ],
      "execution_count": 6,
      "outputs": [
        {
          "output_type": "stream",
          "text": [
            "0\n"
          ],
          "name": "stdout"
        },
        {
          "output_type": "display_data",
          "data": {
            "image/png": "[encoded data removed]",
            "text/plain": [
              "<PIL.PngImagePlugin.PngImageFile image mode=RGBA size=201x201 at 0x7FB6A0E335C0>"
            ]
          },
          "metadata": {
            "tags": []
          }
        },
        {
          "output_type": "stream",
          "text": [
            "1\n"
          ],
          "name": "stdout"
        },
        {
          "output_type": "display_data",
          "data": {
            "image/png": "[encoded data removed]",
            "text/plain": [
              "<PIL.PngImagePlugin.PngImageFile image mode=RGBA size=201x201 at 0x7FB6A0E33D68>"
            ]
          },
          "metadata": {
            "tags": []
          }
        },
        {
          "output_type": "stream",
          "text": [
            "2\n"
          ],
          "name": "stdout"
        },
        {
          "output_type": "display_data",
          "data": {
            "image/png": "[encoded data removed]",
            "text/plain": [
              "<PIL.PngImagePlugin.PngImageFile image mode=RGBA size=201x201 at 0x7FB6A0E33E80>"
            ]
          },
          "metadata": {
            "tags": []
          }
        }
      ]
    },
    {
      "cell_type": "code",
      "metadata": {
        "id": "cOq8Y0sJKuBf"
      },
      "source": [
        "def to_array(img):\n",
        "    return np.array(img).flatten()"
      ],
      "execution_count": 7,
      "outputs": []
    },
    {
      "cell_type": "code",
      "metadata": {
        "id": "NVg46-D4Lnls"
      },
      "source": [
        "all_im_vec = np.vstack([to_array(im) for im in ims.values()])"
      ],
      "execution_count": 8,
      "outputs": []
    },
    {
      "cell_type": "markdown",
      "metadata": {
        "id": "2qIozLr_O20m"
      },
      "source": [
        "It appears that the images might live in a 26ish dimensional space -- there are 24 significant singular values and then a significant drop in magnitude."
      ]
    },
    {
      "cell_type": "code",
      "metadata": {
        "id": "zgXnkLcYKuBg"
      },
      "source": [
        "import scipy.linalg\n",
        "svdvals = scipy.linalg.svdvals(all_im_vec)"
      ],
      "execution_count": 9,
      "outputs": []
    },
    {
      "cell_type": "code",
      "metadata": {
        "colab": {
          "base_uri": "https://localhost:8080/",
          "height": 282
        },
        "id": "nL4AA39RNY1E",
        "outputId": "4d307429-b243-487e-b502-3437bd83e517"
      },
      "source": [
        "import matplotlib.pyplot as plt\r\n",
        "plt.plot(np.log(svdvals))"
      ],
      "execution_count": 10,
      "outputs": [
        {
          "output_type": "execute_result",
          "data": {
            "text/plain": [
              "[<matplotlib.lines.Line2D at 0x7fb697378978>]"
            ]
          },
          "metadata": {
            "tags": []
          },
          "execution_count": 10
        },
        {
          "output_type": "display_data",
          "data": {
            "image/png": "[encoded data removed]",
            "text/plain": [
              "<Figure size 432x288 with 1 Axes>"
            ]
          },
          "metadata": {
            "tags": [],
            "needs_background": "light"
          }
        }
      ]
    }
  ]
}